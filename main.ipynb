{
  "nbformat": 4,
  "nbformat_minor": 0,
  "metadata": {
    "colab": {
      "name": "main.ipynb",
      "provenance": [],
      "include_colab_link": true
    },
    "kernelspec": {
      "name": "python3",
      "display_name": "Python 3"
    }
  },
  "cells": [
    {
      "cell_type": "markdown",
      "metadata": {
        "id": "view-in-github",
        "colab_type": "text"
      },
      "source": [
        "<a href=\"https://colab.research.google.com/github/SamirSim/Football-Prediction-Model/blob/master/main.ipynb\" target=\"_parent\"><img src=\"https://colab.research.google.com/assets/colab-badge.svg\" alt=\"Open In Colab\"/></a>"
      ]
    },
    {
      "cell_type": "code",
      "metadata": {
        "id": "h9t8no0MwOEp",
        "colab_type": "code",
        "colab": {}
      },
      "source": [
        "import sqlite3\n",
        "import pandas as pd"
      ],
      "execution_count": 0,
      "outputs": []
    },
    {
      "cell_type": "code",
      "metadata": {
        "id": "rcnlzTVSwUv-",
        "colab_type": "code",
        "colab": {}
      },
      "source": [
        "conn=sqlite3.connect('Data/database.sqlite')\n",
        "Match=pd.read_sql(\"SELECT * FROM Match;\",conn)\n",
        "Country=pd.read_sql(\"SELECT * FROM Country;\",conn)\n",
        "League=pd.read_sql(\"SELECT * FROM League;\",conn)\n",
        "\n",
        "Team=pd.read_sql(\"SELECT * FROM Team;\",conn)\n",
        "Team_Attributes=pd.read_sql(\"SELECT * FROM Team_Attributes;\",conn)\n",
        "Player=pd.read_sql(\"SELECT * FROM Player;\",conn)\n",
        "Player_Attributes=pd.read_sql(\"SELECT * FROM Player_Attributes;\",conn)"
      ],
      "execution_count": 0,
      "outputs": []
    }
  ]
}