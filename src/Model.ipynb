{
 "cells": [
  {
   "cell_type": "code",
   "execution_count": 153,
   "metadata": {},
   "outputs": [],
   "source": [
    "import pandas as pd\n",
    "import numpy as np\n",
    "from sklearn.metrics import accuracy_score, confusion_matrix\n",
    "from sklearn.ensemble import RandomForestClassifier\n",
    "from sklearn import svm, tree\n",
    "import xgboost\n",
    "from sklearn.model_selection import train_test_split\n",
    "\n",
    "dataTrain = pd.read_csv (r'/Users/davidemomi/Desktop/DAVE/summerscholl_viterbo/summerschool/project/dataTrain.csv')\n",
    "dataTest = pd.read_csv (r'/Users/davidemomi/Desktop/DAVE/summerscholl_viterbo/summerschool/project/dataTest.csv')"
   ]
  },
  {
   "cell_type": "code",
   "execution_count": 155,
   "metadata": {},
   "outputs": [
    {
     "name": "stdout",
     "output_type": "stream",
     "text": [
      "     Unnamed: 0  Unnamed: 0.1  B365A  B365D  B365H        BSA       BSD  \\\n",
      "0             0             0   3.60   3.25   2.15   3.582857  3.180000   \n",
      "1             1             1   8.00   4.33   1.44   7.535714  4.172857   \n",
      "2             2             2   2.40   3.20   3.10   2.442857  3.141429   \n",
      "3             3             3   3.20   3.20   2.38   3.121429  3.175714   \n",
      "4             4             5   9.00   4.50   1.40   9.417143  4.571429   \n",
      "5             5             6   5.75   3.60   1.67   5.978571  3.582857   \n",
      "6             6             7   3.30   3.20   2.30   3.285714  3.124286   \n",
      "7             7             8   4.50   3.30   1.91   4.401429  3.340000   \n",
      "8             8             9   3.50   3.20   2.20   3.530000  3.122857   \n",
      "9             9            10   4.00   3.50   1.95   3.968571  3.351429   \n",
      "10           10            11   3.40   3.10   2.30   3.224286  3.111429   \n",
      "11           11            12   5.50   3.60   1.67   5.484286  3.598571   \n",
      "12           12            13  17.00   7.50   1.17  16.951667  6.801667   \n",
      "13           13            14  13.00   6.50   1.22  12.150000  6.195714   \n",
      "14           14            15   5.75   3.75   1.67   5.307143  3.577143   \n",
      "15           15            16   2.75   3.00   2.80   2.754286  3.027143   \n",
      "16           16            17   3.80   3.30   2.05   3.985714  3.207143   \n",
      "17           17            18   4.20   3.40   1.95   4.284286  3.341429   \n",
      "18           18            19   1.75   3.50   5.25   1.765714  3.464286   \n",
      "19           19            20   2.15   3.30   3.50   2.102857  3.307143   \n",
      "20           20            21   1.22   6.50  13.00   1.240000  5.850000   \n",
      "21           21            22   1.53   4.33   6.00   1.524286  4.197143   \n",
      "22           22            23   2.80   3.20   2.63   2.768571  3.142857   \n",
      "23           23            24   2.15   3.25   3.60   2.194286  3.230000   \n",
      "24           24            25   1.57   3.75   7.00   1.598571  3.742857   \n",
      "25           25            27   1.75   3.60   4.75   1.761429  3.557143   \n",
      "26           26            28   1.53   3.80   7.50   1.521429  3.862857   \n",
      "27           27            29   1.57   3.60   7.50   1.584286  3.631429   \n",
      "28           28            30   2.05   3.10   4.00   2.077143  3.174286   \n",
      "29           29            31   3.40   3.30   2.20   3.425714  3.224286   \n",
      "..          ...           ...    ...    ...    ...        ...       ...   \n",
      "306         306           347  15.00   6.00   1.22  13.848571  5.967143   \n",
      "307         307           348   4.75   3.75   1.75   5.035714  3.621429   \n",
      "308         308           349   3.30   3.40   2.20   3.344286  3.265714   \n",
      "309         309           350   3.10   3.25   2.38   3.137143  3.167143   \n",
      "310         310           351   3.80   3.30   2.00   3.851429  3.302857   \n",
      "311         311           352   3.30   3.10   2.38   3.327143  3.121429   \n",
      "312         312           353   3.40   3.20   2.25   3.301429  3.204286   \n",
      "313         313           354   6.00   3.80   1.62   5.557143  3.715714   \n",
      "314         314           355  11.00   5.50   1.29  11.655714  5.470000   \n",
      "315         315           356   6.50   4.33   1.50   6.898571  4.277143   \n",
      "316         316           357   3.75   3.30   2.00   3.940000  3.310000   \n",
      "317         317           359   2.50   3.00   3.00   2.474286  3.060000   \n",
      "318         318           360   3.10   3.10   2.50   2.992857  3.181429   \n",
      "319         319           361   7.00   4.20   1.50   6.888571  4.198571   \n",
      "320         320           362   2.40   3.30   3.00   2.364286  3.265714   \n",
      "321         321           363   2.50   3.10   3.00   2.577143  3.138571   \n",
      "322         322           364   8.50   5.00   1.36   8.565714  5.128571   \n",
      "323         323           365  12.00   5.00   1.30  12.208571  5.210000   \n",
      "324         324           366   5.00   3.75   1.73   5.171429  3.670000   \n",
      "325         325           367   3.40   3.20   2.25   3.334286  3.160000   \n",
      "326         326           369   4.20   3.20   2.00   3.967143  3.165714   \n",
      "327         327           370   3.20   3.20   2.38   3.150000  3.100000   \n",
      "328         328           371   3.10   3.10   2.50   3.184286  3.104286   \n",
      "329         329           372   7.00   4.20   1.50   7.080000  4.194286   \n",
      "330         330           373  12.00   6.00   1.25  11.194286  5.542857   \n",
      "331         331           374   8.00   4.75   1.40   8.184286  4.624286   \n",
      "332         332           375   4.33   3.30   1.95   4.402857  3.324286   \n",
      "333         333           377   3.00   3.20   2.50   3.031429  3.037143   \n",
      "334         334           378   4.00   3.30   2.00   4.011429  3.282857   \n",
      "335         335           379   3.30   3.30   2.25   3.467143  3.231429   \n",
      "\n",
      "           BSH    BWA   BWD       ...        volleys_5_away  volleys_5_home  \\\n",
      "0     2.192857   3.40  3.10       ...                  55.0            47.0   \n",
      "1     1.471429   7.25  4.20       ...                  55.0            62.0   \n",
      "2     3.057143   2.40  3.00       ...                  55.0            44.0   \n",
      "3     2.381429   3.10  3.20       ...                  40.0            58.0   \n",
      "4     1.385714   9.00  4.50       ...                  55.0            61.0   \n",
      "5     1.660000   5.50  3.70       ...                  55.0            65.0   \n",
      "6     2.322857   3.30  3.00       ...                  55.0            66.0   \n",
      "7     1.894286   4.40  3.30       ...                  55.0            60.0   \n",
      "8     2.224286   3.40  3.00       ...                  55.0            31.0   \n",
      "9     1.978571   3.90  3.20       ...                  55.0            52.0   \n",
      "10    2.378571   3.20  3.10       ...                  40.0            27.0   \n",
      "11    1.690000   5.00  3.60       ...                  55.0            43.0   \n",
      "12    1.183333  16.50  7.00       ...                  45.0            52.0   \n",
      "13    1.235714  12.00  5.50       ...                  55.0            25.0   \n",
      "14    1.727143   5.00  3.60       ...                  55.0            71.0   \n",
      "15    2.805714   2.80  3.10       ...                  55.0            61.0   \n",
      "16    2.037143   3.50  3.20       ...                  55.0            47.0   \n",
      "17    1.920000   4.25  3.25       ...                  55.0            46.0   \n",
      "18    4.978571   1.80  3.40       ...                  53.0            47.0   \n",
      "19    3.631429   2.05  3.30       ...                  62.0            58.0   \n",
      "20   13.307143   1.25  5.50       ...                  73.0            30.0   \n",
      "21    6.237143   1.50  4.20       ...                  73.0            68.0   \n",
      "22    2.692857   2.80  3.10       ...                  53.0            57.0   \n",
      "23    3.495714   2.20  3.30       ...                  62.0            34.0   \n",
      "24    6.332857   1.62  3.70       ...                  75.0            51.0   \n",
      "25    4.918571   1.75  3.60       ...                  75.0            31.0   \n",
      "26    7.341429   1.50  3.90       ...                  53.0            34.0   \n",
      "27    6.971429   1.60  3.50       ...                  53.0            27.0   \n",
      "28    3.848571   2.00  3.25       ...                  62.0            43.0   \n",
      "29    2.228571   3.40  3.20       ...                  53.0            52.0   \n",
      "..         ...    ...   ...       ...                   ...             ...   \n",
      "306   1.231429  12.50  5.75       ...                  51.0            73.0   \n",
      "307   1.731429   4.60  3.50       ...                  50.0            65.0   \n",
      "308   2.245714   3.30  3.10       ...                  50.0            38.0   \n",
      "309   2.367143   3.10  3.20       ...                  51.0            60.0   \n",
      "310   2.020000   3.70  3.20       ...                  33.0            31.0   \n",
      "311   2.321429   3.20  3.20       ...                  51.0            43.0   \n",
      "312   2.281429   3.20  3.10       ...                  51.0            27.0   \n",
      "313   1.665714   5.00  3.80       ...                  33.0            43.0   \n",
      "314   1.278571  12.50  4.75       ...                  60.0            52.0   \n",
      "315   1.488571   6.50  4.33       ...                  51.0            25.0   \n",
      "316   2.007143   3.80  3.30       ...                  51.0            68.0   \n",
      "317   3.094286   2.45  3.00       ...                  60.0            55.0   \n",
      "318   2.494286   2.90  3.10       ...                  50.0            59.0   \n",
      "319   1.497143   6.25  4.10       ...                  47.0            55.0   \n",
      "320   3.081429   2.35  3.20       ...                  47.0            44.0   \n",
      "321   2.887143   2.60  3.10       ...                  47.0            43.0   \n",
      "322   1.347143   8.00  5.25       ...                  53.0            62.0   \n",
      "323   1.285714  10.00  5.00       ...                  53.0            62.0   \n",
      "324   1.692857   5.25  3.60       ...                  53.0            65.0   \n",
      "325   2.277143   3.25  3.10       ...                  47.0            39.0   \n",
      "326   2.055714   4.20  3.20       ...                  40.0            31.0   \n",
      "327   2.424286   3.20  3.10       ...                  53.0            43.0   \n",
      "328   2.420000   3.10  3.10       ...                  47.0            27.0   \n",
      "329   1.491429   6.25  4.10       ...                  47.0            43.0   \n",
      "330   1.288571  10.50  5.50       ...                  53.0            52.0   \n",
      "331   1.402857   7.75  4.50       ...                  47.0            25.0   \n",
      "332   1.907143   4.40  3.30       ...                  53.0            71.0   \n",
      "333   2.530000   3.00  3.00       ...                  53.0            55.0   \n",
      "334   2.000000   3.80  3.30       ...                  40.0            51.0   \n",
      "335   2.198571   3.50  3.00       ...                  47.0            59.0   \n",
      "\n",
      "     volleys_6_away  volleys_6_home  volleys_7_away  volleys_7_home  \\\n",
      "0              73.0            64.0            56.0            36.0   \n",
      "1              77.0            66.0            56.0            62.0   \n",
      "2              56.0            40.0            51.0            42.0   \n",
      "3              68.0            56.0            51.0            51.0   \n",
      "4              60.0            76.0            51.0            78.0   \n",
      "5              56.0            68.0            65.0            55.0   \n",
      "6              77.0            50.0            56.0            67.0   \n",
      "7              65.0            69.0            56.0            45.0   \n",
      "8              51.0            60.0            60.0            60.0   \n",
      "9              77.0            62.0            56.0            70.0   \n",
      "10             51.0            68.0            56.0            24.0   \n",
      "11             68.0            71.0            56.0            77.0   \n",
      "12             56.0            56.0            51.0            71.0   \n",
      "13             65.0            71.0            51.0            74.0   \n",
      "14             68.0            62.0            56.0            50.0   \n",
      "15             77.0            70.0            51.0            51.0   \n",
      "16             60.0            65.0            51.0            75.0   \n",
      "17             77.0            72.0            56.0            60.0   \n",
      "18             78.0            73.0            78.0            40.0   \n",
      "19             78.0            66.0            53.0            68.0   \n",
      "20             74.0            42.0            78.0            44.0   \n",
      "21             74.0            62.0            53.0            51.0   \n",
      "22             78.0            65.0            78.0            61.0   \n",
      "23             74.0            79.0            78.0            76.0   \n",
      "24             78.0            56.0            74.0            59.0   \n",
      "25             74.0            60.0            43.0            60.0   \n",
      "26             78.0            66.0            78.0            62.0   \n",
      "27             74.0            48.0            78.0            46.0   \n",
      "28             84.0            74.0            76.0            76.0   \n",
      "29             43.0            56.0            79.0            71.0   \n",
      "..              ...             ...             ...             ...   \n",
      "306            60.0            63.0            75.0            78.0   \n",
      "307            47.0            76.0            60.0            50.0   \n",
      "308            71.0            60.0            65.0            59.0   \n",
      "309            60.0            39.0            75.0            45.0   \n",
      "310            60.0            59.0            75.0            60.0   \n",
      "311            47.0            59.0            60.0            70.0   \n",
      "312            60.0            68.0            32.0            75.0   \n",
      "313            60.0            74.0            75.0            76.0   \n",
      "314            60.0            56.0            75.0            71.0   \n",
      "315            47.0            71.0            32.0            74.0   \n",
      "316            47.0            68.0            32.0            64.0   \n",
      "317            60.0            65.0            75.0            56.0   \n",
      "318            47.0            67.0            75.0            68.0   \n",
      "319            64.0            62.0            73.0            43.0   \n",
      "320            64.0            64.0            36.0            42.0   \n",
      "321            58.0            56.0            73.0            55.0   \n",
      "322            58.0            67.0            73.0            46.0   \n",
      "323            64.0            74.0            73.0            76.0   \n",
      "324            58.0            59.0            73.0            78.0   \n",
      "325            64.0            60.0            40.0            56.0   \n",
      "326            64.0            66.0            73.0            60.0   \n",
      "327            64.0            66.0            73.0            62.0   \n",
      "328            58.0            68.0            73.0            58.0   \n",
      "329            51.0            74.0            36.0            53.0   \n",
      "330            64.0            56.0            73.0            71.0   \n",
      "331            58.0            87.0            73.0            74.0   \n",
      "332            64.0            70.0            73.0            50.0   \n",
      "333            51.0            75.0            73.0            56.0   \n",
      "334            58.0            60.0            73.0            60.0   \n",
      "335            51.0            73.0            36.0            53.0   \n",
      "\n",
      "     volleys_8_away  volleys_8_home  volleys_9_away  volleys_9_home  \n",
      "0              77.0            51.0            60.0            65.0  \n",
      "1              65.0            33.0            73.0            75.0  \n",
      "2              77.0            60.0            73.0            49.0  \n",
      "3              65.0            55.0            73.0            69.0  \n",
      "4              77.0            74.0            73.0            79.0  \n",
      "5              68.0            76.0            73.0            79.0  \n",
      "6              60.0            56.0            73.0            51.0  \n",
      "7              77.0            51.0            73.0            74.0  \n",
      "8              77.0            46.0            75.0            75.0  \n",
      "9              65.0            66.0            73.0            76.0  \n",
      "10             77.0            68.0            73.0            50.0  \n",
      "11             60.0            69.0            73.0            72.0  \n",
      "12             65.0            79.0            73.0            80.0  \n",
      "13             56.0            75.0            77.0            69.0  \n",
      "14             65.0            70.0            73.0            54.0  \n",
      "15             65.0            42.0            73.0            52.0  \n",
      "16             77.0            49.0            73.0            64.0  \n",
      "17             65.0            70.0            73.0            58.0  \n",
      "18             84.0            64.0            75.0            65.0  \n",
      "19             84.0            48.0            53.0            68.0  \n",
      "20             84.0            60.0            61.0            64.0  \n",
      "21             78.0            56.0            61.0            60.0  \n",
      "22             84.0            67.0            75.0            85.0  \n",
      "23             78.0            79.0            61.0            68.0  \n",
      "24             84.0            50.0            53.0            56.0  \n",
      "25             84.0            59.0            61.0            75.0  \n",
      "26             84.0            70.0            76.0            58.0  \n",
      "27             84.0            68.0            76.0            50.0  \n",
      "28             78.0            68.0            61.0            72.0  \n",
      "29             84.0            79.0            76.0            80.0  \n",
      "..              ...             ...             ...             ...  \n",
      "306            61.0            84.0            32.0            53.0  \n",
      "307            49.0            61.0            32.0            41.0  \n",
      "308            49.0            56.0            70.0            51.0  \n",
      "309            60.0            69.0            49.0            51.0  \n",
      "310            60.0            48.0            61.0            76.0  \n",
      "311            60.0            66.0            55.0            63.0  \n",
      "312            61.0            68.0            49.0            50.0  \n",
      "313            61.0            69.0            55.0            72.0  \n",
      "314            61.0            79.0            78.0            80.0  \n",
      "315            64.0            75.0            60.0            69.0  \n",
      "316            49.0            50.0            65.0            53.0  \n",
      "317            49.0            51.0            72.0            73.0  \n",
      "318            49.0            71.0            60.0            56.0  \n",
      "319            58.0            33.0            65.0            66.0  \n",
      "320            51.0            60.0            65.0            49.0  \n",
      "321            64.0            60.0            65.0            68.0  \n",
      "322            64.0            65.0            65.0            81.0  \n",
      "323            58.0            84.0            65.0            53.0  \n",
      "324            51.0            76.0            65.0            75.0  \n",
      "325            73.0            50.0            65.0            51.0  \n",
      "326            51.0            48.0            65.0            75.0  \n",
      "327            58.0            43.0            65.0            76.0  \n",
      "328            64.0            48.0            65.0            72.0  \n",
      "329            64.0            69.0            65.0            55.0  \n",
      "330            51.0            79.0            65.0            80.0  \n",
      "331            36.0            71.0            48.0            70.0  \n",
      "332            58.0            73.0            65.0            53.0  \n",
      "333            64.0            65.0            48.0            73.0  \n",
      "334            51.0            60.0            64.0            49.0  \n",
      "335            64.0            67.0            65.0            56.0  \n",
      "\n",
      "[336 rows x 968 columns]\n"
     ]
    }
   ],
   "source": [
    "X_train  = dataTrain.drop(labels='final_score', axis=1)\n",
    "\n",
    "X_test = dataTest.drop(labels='final_score', axis=1)\n",
    "\n",
    "y_train = dataTrain['final_score']\n",
    "\n",
    "y_test = dataTest['final_score']\n",
    "\n",
    "print(X_test)"
   ]
  },
  {
   "cell_type": "code",
   "execution_count": 170,
   "metadata": {},
   "outputs": [],
   "source": [
    "import numpy as np\n",
    "from sklearn.preprocessing import StandardScaler\n",
    "from sklearn.decomposition import PCA\n",
    "from sklearn.linear_model import LogisticRegression\n",
    "from sklearn.linear_model import LinearRegression\n",
    "from sklearn.metrics import classification_report\n",
    "\n",
    "#scaler = MinMaxScaler(feature_range=[0, 1])\n",
    "#X_train_rescaled = scaler.fit_transform(X_train)\n",
    "#X_test_rescaled = scaler.fit_transform(X_test)"
   ]
  },
  {
   "cell_type": "code",
   "execution_count": 199,
   "metadata": {},
   "outputs": [],
   "source": [
    "from sklearn import preprocessing\n",
    "import pandas as pd\n",
    "\n",
    "train_set = pd.read_csv (r'/Users/davidemomi/Desktop/DAVE/summerscholl_viterbo/summerschool/project/dataTrain.csv')\n",
    "test_set = pd.read_csv (r'/Users/davidemomi/Desktop/DAVE/summerscholl_viterbo/summerschool/project/dataTest.csv')\n",
    "\n",
    "\n",
    "#drops the target column\n",
    "y_train = train_set.final_score\n",
    "x_train = train_set.drop(labels='final_score', axis=1)\n",
    "\n",
    "y_test = test_set.final_score\n",
    "x_test = test_set.drop(labels='final_score', axis=1)\n",
    "\n",
    "#MinMax scaler, it does not distort data\n",
    "mm_scaler = preprocessing.MinMaxScaler()\n",
    "mm_scaled_x_train = mm_scaler.fit_transform(x_train)\n",
    "mm_scaled_x_test = mm_scaler.fit_transform(x_test)\n",
    "\n",
    "#Standard Scaler in case of the normal distribution\n",
    "std_scaler = preprocessing.StandardScaler()\n",
    "std_scaled_x_train = std_scaler.fit_transform(x_train)\n",
    "std_scaled_x_test = std_scaler.fit_transform(x_test)\n",
    "\n",
    "#Normalization of the data processed by Standard Scaler\n",
    "normalized_std_train = preprocessing.normalize(std_scaled_x_train)\n",
    "normalized_std_test = preprocessing.normalize(std_scaled_x_test)"
   ]
  },
  {
   "cell_type": "code",
   "execution_count": 200,
   "metadata": {},
   "outputs": [
    {
     "data": {
      "image/png": "[encoded data removed]",
      "text/plain": [
       "<Figure size 432x288 with 1 Axes>"
      ]
     },
     "metadata": {},
     "output_type": "display_data"
    }
   ],
   "source": [
    "#Fitting the PCA algorithm with our Data\n",
    "pca = PCA().fit(normalized_std_train)\n",
    "#Plotting the Cumulative Summation of the Explained Variance\n",
    "plt.figure()\n",
    "plt.plot(np.cumsum(pca.explained_variance_ratio_))\n",
    "plt.xlabel('Number of Components')\n",
    "plt.ylabel('Variance (%)') #for each component\n",
    "plt.show()"
   ]
  },
  {
   "cell_type": "code",
   "execution_count": 201,
   "metadata": {},
   "outputs": [
    {
     "data": {
      "image/png": "[encoded data removed]",
      "text/plain": [
       "<Figure size 432x288 with 1 Axes>"
      ]
     },
     "metadata": {},
     "output_type": "display_data"
    }
   ],
   "source": [
    "#Fitting the PCA algorithm with our Data\n",
    "pca = PCA().fit(normalized_std_test)\n",
    "#Plotting the Cumulative Summation of the Explained Variance\n",
    "plt.figure()\n",
    "plt.plot(np.cumsum(pca.explained_variance_ratio_))\n",
    "plt.xlabel('Number of Components')\n",
    "plt.ylabel('Variance (%)') #for each component\n",
    "plt.show()"
   ]
  },
  {
   "cell_type": "code",
   "execution_count": 251,
   "metadata": {},
   "outputs": [],
   "source": [
    "pca = PCA(n_components=336)\n",
    "pca_X_train = pca.fit_transform(X_train_rescaled)"
   ]
  },
  {
   "cell_type": "code",
   "execution_count": 252,
   "metadata": {},
   "outputs": [
    {
     "data": {
      "text/plain": [
       "(1946, 336)"
      ]
     },
     "execution_count": 252,
     "metadata": {},
     "output_type": "execute_result"
    }
   ],
   "source": [
    "pca.n_components_\n",
    "pca_X_train.shape"
   ]
  },
  {
   "cell_type": "code",
   "execution_count": 253,
   "metadata": {},
   "outputs": [],
   "source": [
    "pca = PCA(n_components=336)\n",
    "pca_X_test = pca.fit_transform(X_test_rescaled)"
   ]
  },
  {
   "cell_type": "code",
   "execution_count": 254,
   "metadata": {},
   "outputs": [],
   "source": [
    "import itertools\n",
    "import matplotlib.pyplot as plt\n",
    "from sklearn.ensemble import GradientBoostingClassifier\n",
    "from sklearn.ensemble import AdaBoostClassifier \n",
    "from sklearn.ensemble import RandomForestClassifier\n",
    "from sklearn.naive_bayes import GaussianNB\n",
    "from sklearn.neighbors import KNeighborsClassifier\n",
    "from sklearn import linear_model\n",
    "from sklearn.metrics import confusion_matrix\n",
    "from sklearn.metrics import classification_report, accuracy_score\n",
    "from sklearn.calibration import CalibratedClassifierCV\n",
    "from sklearn import model_selection\n",
    "from sklearn.model_selection import train_test_split\n",
    "from sklearn.metrics import make_scorer\n",
    "from time import time\n",
    "from sklearn.decomposition import PCA, FastICA\n",
    "from sklearn.pipeline import Pipeline\n",
    "import warnings\n",
    "\n",
    "warnings.simplefilter(\"ignore\")"
   ]
  },
  {
   "cell_type": "code",
   "execution_count": 255,
   "metadata": {},
   "outputs": [],
   "source": [
    "## Initializing all models and parameters\n",
    "#Initializing classifiers\n",
    "RF_clf = RandomForestClassifier(n_estimators = 200, random_state = 1, class_weight = 'balanced')\n",
    "AB_clf = AdaBoostClassifier(n_estimators = 200, random_state = 2)\n",
    "GNB_clf = GaussianNB()\n",
    "KNN_clf =  KNeighborsClassifier()\n",
    "LOG_clf = linear_model.LogisticRegression(multi_class = \"ovr\", solver = \"sag\", class_weight = 'balanced')\n",
    "clfs = [RF_clf, AB_clf, GNB_clf, KNN_clf, LOG_clf]\n",
    "\n",
    "#Specficying scorer and parameters for grid search\n",
    "feature_len = X_test.shape[1]\n",
    "scorer = make_scorer(accuracy_score)\n",
    "parameters_RF = {'clf__max_features': ['auto', 'log2'], \n",
    "                 'dm_reduce__n_components': np.arange(5, feature_len, np.around(feature_len/5))}\n",
    "parameters_AB = {'clf__learning_rate': np.linspace(0.5, 2, 5), \n",
    "                 'dm_reduce__n_components': np.arange(5, feature_len, np.around(feature_len/5))}\n",
    "parameters_GNB = {'dm_reduce__n_components': np.arange(5, feature_len, np.around(feature_len/5))}\n",
    "parameters_KNN = {'clf__n_neighbors': [3, 5, 10], \n",
    "                  'dm_reduce__n_components': np.arange(5, feature_len, np.around(feature_len/5))}\n",
    "parameters_LOG = {'clf__C': np.logspace(1, 1000, 5), \n",
    "                  'dm_reduce__n_components': np.arange(5, feature_len, np.around(feature_len/5))}\n",
    "\n",
    "parameters = {clfs[0]: parameters_RF,\n",
    "              clfs[1]: parameters_AB,\n",
    "              clfs[2]: parameters_GNB,\n",
    "              clfs[3]: parameters_KNN,\n",
    "              clfs[4]: parameters_LOG}\n",
    "\n"
   ]
  },
  {
   "cell_type": "code",
   "execution_count": 256,
   "metadata": {},
   "outputs": [
    {
     "name": "stdout",
     "output_type": "stream",
     "text": [
      "Score of RandomForestClassifier for training set: 1.0000.\n",
      "Score of RandomForestClassifier for test set: 0.4673.\n"
     ]
    }
   ],
   "source": [
    "clf= RF_clf\n",
    "clf.fit(pca_X_train, y_train)\n",
    "print(\"Score of {} for training set: {:.4f}.\".format(clf.__class__.__name__, accuracy_score(y_train, clf.predict(pca_X_train))))\n",
    "print(\"Score of {} for test set: {:.4f}.\".format(clf.__class__.__name__, accuracy_score(y_test, clf.predict(pca_X_test))))"
   ]
  },
  {
   "cell_type": "code",
   "execution_count": 257,
   "metadata": {},
   "outputs": [
    {
     "name": "stdout",
     "output_type": "stream",
     "text": [
      "Score of AdaBoostClassifier for training set: 0.7395.\n",
      "Score of AdaBoostClassifier for test set: 0.3839.\n"
     ]
    }
   ],
   "source": [
    "clf= AB_clf\n",
    "clf.fit(pca_X_train, y_train)\n",
    "print(\"Score of {} for training set: {:.4f}.\".format(clf.__class__.__name__, accuracy_score(y_train, clf.predict(pca_X_train))))\n",
    "print(\"Score of {} for test set: {:.4f}.\".format(clf.__class__.__name__, accuracy_score(y_test, clf.predict(pca_X_test))))"
   ]
  },
  {
   "cell_type": "code",
   "execution_count": 258,
   "metadata": {},
   "outputs": [
    {
     "name": "stdout",
     "output_type": "stream",
     "text": [
      "Score of GaussianNB for training set: 0.6850.\n",
      "Score of GaussianNB for test set: 0.3423.\n"
     ]
    }
   ],
   "source": [
    "clf= GNB_clf\n",
    "clf.fit(pca_X_train, y_train)\n",
    "print(\"Score of {} for training set: {:.4f}.\".format(clf.__class__.__name__, accuracy_score(y_train, clf.predict(pca_X_train))))\n",
    "print(\"Score of {} for test set: {:.4f}.\".format(clf.__class__.__name__, accuracy_score(y_test, clf.predict(pca_X_test))))"
   ]
  },
  {
   "cell_type": "code",
   "execution_count": 259,
   "metadata": {},
   "outputs": [
    {
     "name": "stdout",
     "output_type": "stream",
     "text": [
      "Score of KNeighborsClassifier for training set: 0.6187.\n",
      "Score of KNeighborsClassifier for test set: 0.3899.\n"
     ]
    }
   ],
   "source": [
    "clf= KNN_clf\n",
    "clf.fit(pca_X_train, y_train)\n",
    "print(\"Score of {} for training set: {:.4f}.\".format(clf.__class__.__name__, accuracy_score(y_train, clf.predict(pca_X_train))))\n",
    "print(\"Score of {} for test set: {:.4f}.\".format(clf.__class__.__name__, accuracy_score(y_test, clf.predict(pca_X_test))))"
   ]
  },
  {
   "cell_type": "code",
   "execution_count": 260,
   "metadata": {},
   "outputs": [
    {
     "name": "stdout",
     "output_type": "stream",
     "text": [
      "Score of LogisticRegression for training set: 0.6285.\n",
      "Score of LogisticRegression for test set: 0.3363.\n"
     ]
    }
   ],
   "source": [
    "clf= LOG_clf\n",
    "clf.fit(pca_X_train, y_train)\n",
    "print(\"Score of {} for training set: {:.4f}.\".format(clf.__class__.__name__, accuracy_score(y_train, clf.predict(pca_X_train))))\n",
    "print(\"Score of {} for test set: {:.4f}.\".format(clf.__class__.__name__, accuracy_score(y_test, clf.predict(pca_X_test))))"
   ]
  },
  {
   "cell_type": "code",
   "execution_count": null,
   "metadata": {},
   "outputs": [],
   "source": []
  }
 ],
 "metadata": {
  "kernelspec": {
   "display_name": "Python 3",
   "language": "python",
   "name": "python3"
  },
  "language_info": {
   "codemirror_mode": {
    "name": "ipython",
    "version": 3
   },
   "file_extension": ".py",
   "mimetype": "text/x-python",
   "name": "python",
   "nbconvert_exporter": "python",
   "pygments_lexer": "ipython3",
   "version": "3.6.5"
  }
 },
 "nbformat": 4,
 "nbformat_minor": 2
}
